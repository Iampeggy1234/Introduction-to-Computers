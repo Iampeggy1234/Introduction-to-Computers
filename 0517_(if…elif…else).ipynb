{
  "nbformat": 4,
  "nbformat_minor": 0,
  "metadata": {
    "colab": {
      "provenance": [],
      "authorship_tag": "ABX9TyOG+OlOHi1HPIyihB23PDT/",
      "include_colab_link": true
    },
    "kernelspec": {
      "name": "python3",
      "display_name": "Python 3"
    },
    "language_info": {
      "name": "python"
    }
  },
  "cells": [
    {
      "cell_type": "markdown",
      "metadata": {
        "id": "view-in-github",
        "colab_type": "text"
      },
      "source": [
        "<a href=\"https://colab.research.google.com/github/Iampeggy1234/Introduction-to-Computers/blob/main/0517_(if%E2%80%A6elif%E2%80%A6else).ipynb\" target=\"_parent\"><img src=\"https://colab.research.google.com/assets/colab-badge.svg\" alt=\"Open In Colab\"/></a>"
      ]
    },
    {
      "cell_type": "code",
      "execution_count": null,
      "metadata": {
        "colab": {
          "base_uri": "https://localhost:8080/"
        },
        "id": "QmvXj0KyEf2a",
        "outputId": "58c5aa19-8ef0-46ab-defe-021b31cea298"
      },
      "outputs": [
        {
          "output_type": "stream",
          "name": "stdout",
          "text": [
            "score:70\n",
            "Grade is C\n"
          ]
        }
      ],
      "source": [
        "score = int(input(\"score:\"))\n",
        "if score >=90:\n",
        "  print('Grade is A')\n",
        "elif score >=80:\n",
        "  print('Grade is B')\n",
        "elif score >=70:\n",
        "  print('Grade is C')\n",
        "elif score >=60:\n",
        "  print(',Grade is D')\n",
        "else:\n",
        "  print('Grade is F')\n",
        "   "
      ]
    },
    {
      "cell_type": "code",
      "source": [
        "rain =input(\"今天會下雨嗎\")\n",
        "if (rain == \"Y \"or rain == \"y\"):\n",
        "   print (\"帶傘\")\n",
        "elif(rain== \"N\" or rain== \"n\"):\n",
        "   print(\"不用帶傘\")\n",
        "else:\n",
        "   print(\"無效輸入\")"
      ],
      "metadata": {
        "id": "bOW0wEa-HBLi",
        "colab": {
          "base_uri": "https://localhost:8080/"
        },
        "outputId": "c60499bb-6510-4358-f91d-6959d2123bc8"
      },
      "execution_count": 3,
      "outputs": [
        {
          "output_type": "stream",
          "name": "stdout",
          "text": [
            "今天會下雨嗎N\n",
            "不用帶傘\n"
          ]
        }
      ]
    },
    {
      "cell_type": "code",
      "source": [
        "temp=float(input(\"請輸入體溫：\"))\n",
        "if temp >=37.5:\n",
        "  print(\"體溫過高！\")\n",
        "elif temp<=37.4and temp>=37:\n",
        "  print(\"體溫略高\")\n",
        "elif temp<=36.9 and temp>=34:\n",
        "  print(\"體溫正常\")\n",
        "elif temp<34:\n",
        "  print(\"體溫異常，請重新測量\")"
      ],
      "metadata": {
        "colab": {
          "base_uri": "https://localhost:8080/"
        },
        "id": "_xZaY7cGKlqU",
        "outputId": "47349f79-bdf1-4b5d-8e97-bf79401b9950"
      },
      "execution_count": 15,
      "outputs": [
        {
          "output_type": "stream",
          "name": "stdout",
          "text": [
            "請輸入體溫：34\n",
            "體溫正常\n"
          ]
        }
      ]
    },
    {
      "cell_type": "code",
      "source": [
        "score=int(input(\"請輸入成績：\"))\n",
        "if score>=90:\n",
        "  print(\"A\")\n",
        "elif score<=89 and score>=80:\n",
        "  print(\"B\")\n",
        "elif score<=79 and score>=70:\n",
        "  print(\"C\")\n",
        "elif score <=69 and score>=60:\n",
        "  print(\"D\")\n",
        "elif score <60:\n",
        "  print(\"E\")"
      ],
      "metadata": {
        "colab": {
          "base_uri": "https://localhost:8080/"
        },
        "id": "wlqyvxejNtEh",
        "outputId": "f319f630-df26-4c57-d57b-594199b24ab5"
      },
      "execution_count": 18,
      "outputs": [
        {
          "output_type": "stream",
          "name": "stdout",
          "text": [
            "請輸入成績：90\n",
            "A\n"
          ]
        }
      ]
    },
    {
      "cell_type": "code",
      "source": [
        "month=int(input(\"請輸入月份：\"))\n",
        "if month in[3,4,5]:\n",
        "  print(\"春天\")\n",
        "elif month in[6,7,8]:\n",
        "  print(\"夏天\")\n",
        "elif month in [9,10,11]:\n",
        "  print(\"秋天\")\n",
        "elif month in [12,1,2]:\n",
        "  print(\"冬天\")\n",
        "else:\n",
        "  print(\"月份不在範圍內\")"
      ],
      "metadata": {
        "colab": {
          "base_uri": "https://localhost:8080/"
        },
        "id": "tfTQXh2KOMr-",
        "outputId": "73ea9c1a-fae5-4288-cdc1-0ef0141e3ee1"
      },
      "execution_count": 31,
      "outputs": [
        {
          "output_type": "stream",
          "name": "stdout",
          "text": [
            "請輸入月份：4\n",
            "春天\n"
          ]
        }
      ]
    },
    {
      "cell_type": "code",
      "source": [
        "tax=int(input(\"請輸入淨額：\"))\n",
        "if tax>=2000000:\n",
        "  print(tax*0.3)\n",
        "elif tax>=1000000 and tax<=1999999:\n",
        "  print(tax*0.21)\n",
        "elif tax>=600000 and tax<=999999:\n",
        "  print(tax*0.13)\n",
        "elif tax>=300000 and tax<=599999:\n",
        "  print(tax*0.06)\n",
        "else:\n",
        "  print(tax*0)"
      ],
      "metadata": {
        "colab": {
          "base_uri": "https://localhost:8080/"
        },
        "id": "Ma1lc5JCR1ys",
        "outputId": "88e863ae-553c-4416-fce4-a58aef69a889"
      },
      "execution_count": 38,
      "outputs": [
        {
          "output_type": "stream",
          "name": "stdout",
          "text": [
            "請輸入淨額：100000\n",
            "0\n"
          ]
        }
      ]
    }
  ]
}