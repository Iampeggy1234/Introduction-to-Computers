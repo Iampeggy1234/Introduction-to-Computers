{
  "nbformat": 4,
  "nbformat_minor": 0,
  "metadata": {
    "colab": {
      "provenance": [],
      "authorship_tag": "ABX9TyNPk3EO9Z9WqnoN3SZyblt2",
      "include_colab_link": true
    },
    "kernelspec": {
      "name": "python3",
      "display_name": "Python 3"
    },
    "language_info": {
      "name": "python"
    }
  },
  "cells": [
    {
      "cell_type": "markdown",
      "metadata": {
        "id": "view-in-github",
        "colab_type": "text"
      },
      "source": [
        "<a href=\"https://colab.research.google.com/github/Iampeggy1234/Introduction-to-Computers/blob/main/0510%EF%BC%88if%E2%80%A6else%E5%88%A4%E6%96%B7%E5%BC%8F%EF%BC%89.ipynb\" target=\"_parent\"><img src=\"https://colab.research.google.com/assets/colab-badge.svg\" alt=\"Open In Colab\"/></a>"
      ]
    },
    {
      "cell_type": "code",
      "execution_count": null,
      "metadata": {
        "colab": {
          "base_uri": "https://localhost:8080/"
        },
        "id": "TjpaJ0MqwM-L",
        "outputId": "406715c4-f173-4cd7-caac-3dfc787d7426"
      },
      "outputs": [
        {
          "output_type": "stream",
          "name": "stdout",
          "text": [
            "Hi\n"
          ]
        }
      ],
      "source": [
        "print(\"Hi\")"
      ]
    },
    {
      "cell_type": "code",
      "source": [
        "score = int(input(\"請輸入分數：\"))\n",
        "if score >=60:\n",
        "   print(\"及格唷♡︎\")\n",
        "else:\n",
        "   print(\"不及格\")"
      ],
      "metadata": {
        "colab": {
          "base_uri": "https://localhost:8080/"
        },
        "id": "jW-m0teGwkR6",
        "outputId": "1950c2e1-1303-4d71-8a25-b22a6702b081"
      },
      "execution_count": 5,
      "outputs": [
        {
          "output_type": "stream",
          "name": "stdout",
          "text": [
            "請輸入分數：60\n",
            "及格唷♡︎\n"
          ]
        }
      ]
    },
    {
      "cell_type": "code",
      "source": [
        "password=int(input(\"請輸入密碼：\"))\n",
        "if password==1234:\n",
        "  print(\"歡迎光臨\")\n",
        "else:\n",
        "  print(\"密碼不正確\")"
      ],
      "metadata": {
        "id": "w7Qy7Oa-xarD",
        "colab": {
          "base_uri": "https://localhost:8080/"
        },
        "outputId": "b7981f88-1b44-46d4-c40c-bf1b18c8d454"
      },
      "execution_count": 3,
      "outputs": [
        {
          "output_type": "stream",
          "name": "stdout",
          "text": [
            "請輸入密碼：1234\n",
            "歡迎光臨\n"
          ]
        }
      ]
    },
    {
      "cell_type": "code",
      "source": [
        "password=int(input(\"請輸入密碼：\"))\n",
        "if password ==1234:\n",
        "   print(\"歡迎光臨哦！\")\n",
        "else:\n",
        "   print(\"密碼不正確啦=_=\")\n",
        "  \n"
      ],
      "metadata": {
        "colab": {
          "base_uri": "https://localhost:8080/"
        },
        "id": "ejwnB0jhzmNX",
        "outputId": "c9b9355f-a4fb-4bd5-efcb-38db5a2f3a02"
      },
      "execution_count": 15,
      "outputs": [
        {
          "output_type": "stream",
          "name": "stdout",
          "text": [
            "請輸入密碼：1111\n",
            "密碼不正確啦=_=\n"
          ]
        }
      ]
    },
    {
      "cell_type": "code",
      "source": [
        "rain=input(\"今天會下雨嗎：\")\n",
        "if(rain==\"Y\" or rain==\"y\"):\n",
        "  print(\"出門記得帶傘哦！\")\n",
        "else:\n",
        "  print(\"不用帶傘爹斯\")"
      ],
      "metadata": {
        "colab": {
          "base_uri": "https://localhost:8080/"
        },
        "id": "gLMKBr1D1fRl",
        "outputId": "6947f89e-47ce-4cb2-8a33-380e160ba31d"
      },
      "execution_count": 19,
      "outputs": [
        {
          "output_type": "stream",
          "name": "stdout",
          "text": [
            "今天會下雨嗎：Y\n",
            "出門記得帶傘哦！\n"
          ]
        }
      ]
    },
    {
      "cell_type": "code",
      "source": [
        "num=int(input(\"輸入數字：\"))\n",
        "if (num%2)==0:\n",
        "   print(\"為偶數～\")\n",
        "else:\n",
        "   print(\"是奇數！\")"
      ],
      "metadata": {
        "colab": {
          "base_uri": "https://localhost:8080/"
        },
        "id": "6B_v3HuU7nzi",
        "outputId": "313f15f4-d66a-45ee-c9d3-ede213128188"
      },
      "execution_count": 22,
      "outputs": [
        {
          "output_type": "stream",
          "name": "stdout",
          "text": [
            "輸入數字：50\n",
            "為偶數～\n"
          ]
        }
      ]
    },
    {
      "cell_type": "code",
      "source": [
        "num=int(input(\"請輸入數字：\"))\n",
        "if (num%2)==0:\n",
        "   print(\"為偶數～\")\n",
        "else:\n",
        "   print(\"為奇數！\")"
      ],
      "metadata": {
        "colab": {
          "base_uri": "https://localhost:8080/"
        },
        "id": "JV1UKp239f0n",
        "outputId": "a27d822d-01f5-45fa-92a3-2d079a6e3f6f"
      },
      "execution_count": 23,
      "outputs": [
        {
          "output_type": "stream",
          "name": "stdout",
          "text": [
            "請輸入數字：51\n",
            "為奇數！\n"
          ]
        }
      ]
    },
    {
      "cell_type": "markdown",
      "source": [],
      "metadata": {
        "id": "ZqW5Ahjj1fuZ"
      }
    }
  ]
}